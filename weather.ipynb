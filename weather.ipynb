{
  "nbformat": 4,
  "nbformat_minor": 0,
  "metadata": {
    "colab": {
      "name": "weather",
      "provenance": [],
      "collapsed_sections": [],
      "authorship_tag": "ABX9TyMmehjHbGeioZmKnWZvnNs9",
      "include_colab_link": true
    },
    "kernelspec": {
      "name": "python3",
      "display_name": "Python 3"
    },
    "language_info": {
      "name": "python"
    }
  },
  "cells": [
    {
      "cell_type": "markdown",
      "metadata": {
        "id": "view-in-github",
        "colab_type": "text"
      },
      "source": [
        "<a href=\"https://colab.research.google.com/github/VENNELA2132/ML-Project_vennela2132/blob/main/weather.ipynb\" target=\"_parent\"><img src=\"https://colab.research.google.com/assets/colab-badge.svg\" alt=\"Open In Colab\"/></a>"
      ]
    },
    {
      "cell_type": "code",
      "metadata": {
        "id": "D4PNuTwP1ANp"
      },
      "source": [
        "import numpy as np\n",
        "import pandas as pd\n",
        "import matplotlib.pyplot as plt\n",
        "import seaborn as sns\n",
        " "
      ],
      "execution_count": 5,
      "outputs": []
    },
    {
      "cell_type": "code",
      "metadata": {
        "colab": {
          "base_uri": "https://localhost:8080/",
          "height": 307
        },
        "id": "WcbOUIo01A6F",
        "outputId": "b38ec5c2-d279-454e-a39a-af93435c1a9b"
      },
      "source": [
        "df=pd.read_csv(\"/content/weatherAUS.csv\")\n",
        "df.head()"
      ],
      "execution_count": 6,
      "outputs": [
        {
          "output_type": "execute_result",
          "data": {
            "text/html": [
              "<div>\n",
              "<style scoped>\n",
              "    .dataframe tbody tr th:only-of-type {\n",
              "        vertical-align: middle;\n",
              "    }\n",
              "\n",
              "    .dataframe tbody tr th {\n",
              "        vertical-align: top;\n",
              "    }\n",
              "\n",
              "    .dataframe thead th {\n",
              "        text-align: right;\n",
              "    }\n",
              "</style>\n",
              "<table border=\"1\" class=\"dataframe\">\n",
              "  <thead>\n",
              "    <tr style=\"text-align: right;\">\n",
              "      <th></th>\n",
              "      <th>Date</th>\n",
              "      <th>Location</th>\n",
              "      <th>MinTemp</th>\n",
              "      <th>MaxTemp</th>\n",
              "      <th>Rainfall</th>\n",
              "      <th>Evaporation</th>\n",
              "      <th>Sunshine</th>\n",
              "      <th>WindGustDir</th>\n",
              "      <th>WindGustSpeed</th>\n",
              "      <th>WindDir9am</th>\n",
              "      <th>WindDir3pm</th>\n",
              "      <th>WindSpeed9am</th>\n",
              "      <th>WindSpeed3pm</th>\n",
              "      <th>Humidity9am</th>\n",
              "      <th>Humidity3pm</th>\n",
              "      <th>Pressure9am</th>\n",
              "      <th>Pressure3pm</th>\n",
              "      <th>Cloud9am</th>\n",
              "      <th>Cloud3pm</th>\n",
              "      <th>Temp9am</th>\n",
              "      <th>Temp3pm</th>\n",
              "      <th>RainToday</th>\n",
              "      <th>RainTomorrow</th>\n",
              "    </tr>\n",
              "  </thead>\n",
              "  <tbody>\n",
              "    <tr>\n",
              "      <th>0</th>\n",
              "      <td>2008-12-01</td>\n",
              "      <td>Albury</td>\n",
              "      <td>13.4</td>\n",
              "      <td>22.9</td>\n",
              "      <td>0.6</td>\n",
              "      <td>NaN</td>\n",
              "      <td>NaN</td>\n",
              "      <td>W</td>\n",
              "      <td>44.0</td>\n",
              "      <td>W</td>\n",
              "      <td>WNW</td>\n",
              "      <td>20.0</td>\n",
              "      <td>24.0</td>\n",
              "      <td>71.0</td>\n",
              "      <td>22.0</td>\n",
              "      <td>1007.7</td>\n",
              "      <td>1007.1</td>\n",
              "      <td>8.0</td>\n",
              "      <td>NaN</td>\n",
              "      <td>16.9</td>\n",
              "      <td>21.8</td>\n",
              "      <td>No</td>\n",
              "      <td>No</td>\n",
              "    </tr>\n",
              "    <tr>\n",
              "      <th>1</th>\n",
              "      <td>2008-12-02</td>\n",
              "      <td>Albury</td>\n",
              "      <td>7.4</td>\n",
              "      <td>25.1</td>\n",
              "      <td>0.0</td>\n",
              "      <td>NaN</td>\n",
              "      <td>NaN</td>\n",
              "      <td>WNW</td>\n",
              "      <td>44.0</td>\n",
              "      <td>NNW</td>\n",
              "      <td>WSW</td>\n",
              "      <td>4.0</td>\n",
              "      <td>22.0</td>\n",
              "      <td>44.0</td>\n",
              "      <td>25.0</td>\n",
              "      <td>1010.6</td>\n",
              "      <td>1007.8</td>\n",
              "      <td>NaN</td>\n",
              "      <td>NaN</td>\n",
              "      <td>17.2</td>\n",
              "      <td>24.3</td>\n",
              "      <td>No</td>\n",
              "      <td>No</td>\n",
              "    </tr>\n",
              "    <tr>\n",
              "      <th>2</th>\n",
              "      <td>2008-12-03</td>\n",
              "      <td>Albury</td>\n",
              "      <td>12.9</td>\n",
              "      <td>25.7</td>\n",
              "      <td>0.0</td>\n",
              "      <td>NaN</td>\n",
              "      <td>NaN</td>\n",
              "      <td>WSW</td>\n",
              "      <td>46.0</td>\n",
              "      <td>W</td>\n",
              "      <td>WSW</td>\n",
              "      <td>19.0</td>\n",
              "      <td>26.0</td>\n",
              "      <td>38.0</td>\n",
              "      <td>30.0</td>\n",
              "      <td>1007.6</td>\n",
              "      <td>1008.7</td>\n",
              "      <td>NaN</td>\n",
              "      <td>2.0</td>\n",
              "      <td>21.0</td>\n",
              "      <td>23.2</td>\n",
              "      <td>No</td>\n",
              "      <td>No</td>\n",
              "    </tr>\n",
              "    <tr>\n",
              "      <th>3</th>\n",
              "      <td>2008-12-04</td>\n",
              "      <td>Albury</td>\n",
              "      <td>9.2</td>\n",
              "      <td>28.0</td>\n",
              "      <td>0.0</td>\n",
              "      <td>NaN</td>\n",
              "      <td>NaN</td>\n",
              "      <td>NE</td>\n",
              "      <td>24.0</td>\n",
              "      <td>SE</td>\n",
              "      <td>E</td>\n",
              "      <td>11.0</td>\n",
              "      <td>9.0</td>\n",
              "      <td>45.0</td>\n",
              "      <td>16.0</td>\n",
              "      <td>1017.6</td>\n",
              "      <td>1012.8</td>\n",
              "      <td>NaN</td>\n",
              "      <td>NaN</td>\n",
              "      <td>18.1</td>\n",
              "      <td>26.5</td>\n",
              "      <td>No</td>\n",
              "      <td>No</td>\n",
              "    </tr>\n",
              "    <tr>\n",
              "      <th>4</th>\n",
              "      <td>2008-12-05</td>\n",
              "      <td>Albury</td>\n",
              "      <td>17.5</td>\n",
              "      <td>32.3</td>\n",
              "      <td>1.0</td>\n",
              "      <td>NaN</td>\n",
              "      <td>NaN</td>\n",
              "      <td>W</td>\n",
              "      <td>41.0</td>\n",
              "      <td>ENE</td>\n",
              "      <td>NW</td>\n",
              "      <td>7.0</td>\n",
              "      <td>20.0</td>\n",
              "      <td>82.0</td>\n",
              "      <td>33.0</td>\n",
              "      <td>1010.8</td>\n",
              "      <td>1006.0</td>\n",
              "      <td>7.0</td>\n",
              "      <td>8.0</td>\n",
              "      <td>17.8</td>\n",
              "      <td>29.7</td>\n",
              "      <td>No</td>\n",
              "      <td>No</td>\n",
              "    </tr>\n",
              "  </tbody>\n",
              "</table>\n",
              "</div>"
            ],
            "text/plain": [
              "         Date Location  MinTemp  ...  Temp3pm  RainToday  RainTomorrow\n",
              "0  2008-12-01   Albury     13.4  ...     21.8         No            No\n",
              "1  2008-12-02   Albury      7.4  ...     24.3         No            No\n",
              "2  2008-12-03   Albury     12.9  ...     23.2         No            No\n",
              "3  2008-12-04   Albury      9.2  ...     26.5         No            No\n",
              "4  2008-12-05   Albury     17.5  ...     29.7         No            No\n",
              "\n",
              "[5 rows x 23 columns]"
            ]
          },
          "metadata": {
            "tags": []
          },
          "execution_count": 6
        }
      ]
    },
    {
      "cell_type": "code",
      "metadata": {
        "colab": {
          "base_uri": "https://localhost:8080/"
        },
        "id": "tEDQMyh-A4H6",
        "outputId": "dea40262-bf72-4f6d-ac21-592e558b90c7"
      },
      "source": [
        "df.shape"
      ],
      "execution_count": 7,
      "outputs": [
        {
          "output_type": "execute_result",
          "data": {
            "text/plain": [
              "(145460, 23)"
            ]
          },
          "metadata": {
            "tags": []
          },
          "execution_count": 7
        }
      ]
    },
    {
      "cell_type": "code",
      "metadata": {
        "colab": {
          "base_uri": "https://localhost:8080/"
        },
        "id": "vtrsvLTNA7zI",
        "outputId": "e79453d0-b1ec-436f-d2fa-56a2c52f378d"
      },
      "source": [
        "df.isna().sum()\n"
      ],
      "execution_count": 8,
      "outputs": [
        {
          "output_type": "execute_result",
          "data": {
            "text/plain": [
              "Date                 0\n",
              "Location             0\n",
              "MinTemp           1485\n",
              "MaxTemp           1261\n",
              "Rainfall          3261\n",
              "Evaporation      62790\n",
              "Sunshine         69835\n",
              "WindGustDir      10326\n",
              "WindGustSpeed    10263\n",
              "WindDir9am       10566\n",
              "WindDir3pm        4228\n",
              "WindSpeed9am      1767\n",
              "WindSpeed3pm      3062\n",
              "Humidity9am       2654\n",
              "Humidity3pm       4507\n",
              "Pressure9am      15065\n",
              "Pressure3pm      15028\n",
              "Cloud9am         55888\n",
              "Cloud3pm         59358\n",
              "Temp9am           1767\n",
              "Temp3pm           3609\n",
              "RainToday         3261\n",
              "RainTomorrow      3267\n",
              "dtype: int64"
            ]
          },
          "metadata": {
            "tags": []
          },
          "execution_count": 8
        }
      ]
    },
    {
      "cell_type": "markdown",
      "metadata": {
        "id": "2INAqMxdDyuI"
      },
      "source": [
        "**Here we can find there are many missing values in the data.**\n",
        "\n",
        "\n",
        "**So we need to find the percentage of missing values per column.** "
      ]
    },
    {
      "cell_type": "code",
      "metadata": {
        "colab": {
          "base_uri": "https://localhost:8080/"
        },
        "id": "I8srTAeDBB8u",
        "outputId": "aea641a9-a767-4293-8ad3-dcd6fdfd611a"
      },
      "source": [
        "for col in df.columns:\n",
        "  print(col,\"\\t\",(df[col].isna().sum()/df[col].size)*100)"
      ],
      "execution_count": 9,
      "outputs": [
        {
          "output_type": "stream",
          "text": [
            "Date \t 0.0\n",
            "Location \t 0.0\n",
            "MinTemp \t 1.0208992162793895\n",
            "MaxTemp \t 0.8669049910628353\n",
            "Rainfall \t 2.2418534304963567\n",
            "Evaporation \t 43.166506256015396\n",
            "Sunshine \t 48.00976213391998\n",
            "WindGustDir \t 7.098858792795271\n",
            "WindGustSpeed \t 7.055547916953114\n",
            "WindDir9am \t 7.263852605527293\n",
            "WindDir3pm \t 2.906641000962464\n",
            "WindSpeed9am \t 1.214766946239516\n",
            "WindSpeed3pm \t 2.105046060772721\n",
            "Humidity9am \t 1.8245565791282825\n",
            "Humidity3pm \t 3.09844630826344\n",
            "Pressure9am \t 10.356799120033\n",
            "Pressure3pm \t 10.331362573903478\n",
            "Cloud9am \t 38.42155919153032\n",
            "Cloud3pm \t 40.80709473394747\n",
            "Temp9am \t 1.214766946239516\n",
            "Temp3pm \t 2.4810944589577892\n",
            "RainToday \t 2.2418534304963567\n",
            "RainTomorrow \t 2.245978275814657\n"
          ],
          "name": "stdout"
        }
      ]
    },
    {
      "cell_type": "markdown",
      "metadata": {
        "id": "Feh6w95kERFy"
      },
      "source": [
        "We can see that **\"Evaporation\",\"Sunshine\",\"Cloud3pm\"** and **\"Cloud9am\"** have large percentage of missing values so these columns do not give much useful information. \n",
        "\n",
        "We have to remove them.\n",
        "\n",
        "\n"
      ]
    },
    {
      "cell_type": "code",
      "metadata": {
        "colab": {
          "base_uri": "https://localhost:8080/",
          "height": 307
        },
        "id": "oqvfdnfQBPj_",
        "outputId": "5014f856-f1ac-475d-e6c1-27af5b88ba27"
      },
      "source": [
        "dcs=dict()\n",
        "lst=[\"Evaporation\",\"Sunshine\",\"Cloud3pm\",\"Cloud9am\"]\n",
        "for col in df.columns:\n",
        "  if col not in lst:\n",
        "    dcs.update({col:df[col]})\n",
        "\n",
        "\n",
        "df_new=pd.DataFrame(dcs)\n",
        "df_new.head()"
      ],
      "execution_count": 10,
      "outputs": [
        {
          "output_type": "execute_result",
          "data": {
            "text/html": [
              "<div>\n",
              "<style scoped>\n",
              "    .dataframe tbody tr th:only-of-type {\n",
              "        vertical-align: middle;\n",
              "    }\n",
              "\n",
              "    .dataframe tbody tr th {\n",
              "        vertical-align: top;\n",
              "    }\n",
              "\n",
              "    .dataframe thead th {\n",
              "        text-align: right;\n",
              "    }\n",
              "</style>\n",
              "<table border=\"1\" class=\"dataframe\">\n",
              "  <thead>\n",
              "    <tr style=\"text-align: right;\">\n",
              "      <th></th>\n",
              "      <th>Date</th>\n",
              "      <th>Location</th>\n",
              "      <th>MinTemp</th>\n",
              "      <th>MaxTemp</th>\n",
              "      <th>Rainfall</th>\n",
              "      <th>WindGustDir</th>\n",
              "      <th>WindGustSpeed</th>\n",
              "      <th>WindDir9am</th>\n",
              "      <th>WindDir3pm</th>\n",
              "      <th>WindSpeed9am</th>\n",
              "      <th>WindSpeed3pm</th>\n",
              "      <th>Humidity9am</th>\n",
              "      <th>Humidity3pm</th>\n",
              "      <th>Pressure9am</th>\n",
              "      <th>Pressure3pm</th>\n",
              "      <th>Temp9am</th>\n",
              "      <th>Temp3pm</th>\n",
              "      <th>RainToday</th>\n",
              "      <th>RainTomorrow</th>\n",
              "    </tr>\n",
              "  </thead>\n",
              "  <tbody>\n",
              "    <tr>\n",
              "      <th>0</th>\n",
              "      <td>2008-12-01</td>\n",
              "      <td>Albury</td>\n",
              "      <td>13.4</td>\n",
              "      <td>22.9</td>\n",
              "      <td>0.6</td>\n",
              "      <td>W</td>\n",
              "      <td>44.0</td>\n",
              "      <td>W</td>\n",
              "      <td>WNW</td>\n",
              "      <td>20.0</td>\n",
              "      <td>24.0</td>\n",
              "      <td>71.0</td>\n",
              "      <td>22.0</td>\n",
              "      <td>1007.7</td>\n",
              "      <td>1007.1</td>\n",
              "      <td>16.9</td>\n",
              "      <td>21.8</td>\n",
              "      <td>No</td>\n",
              "      <td>No</td>\n",
              "    </tr>\n",
              "    <tr>\n",
              "      <th>1</th>\n",
              "      <td>2008-12-02</td>\n",
              "      <td>Albury</td>\n",
              "      <td>7.4</td>\n",
              "      <td>25.1</td>\n",
              "      <td>0.0</td>\n",
              "      <td>WNW</td>\n",
              "      <td>44.0</td>\n",
              "      <td>NNW</td>\n",
              "      <td>WSW</td>\n",
              "      <td>4.0</td>\n",
              "      <td>22.0</td>\n",
              "      <td>44.0</td>\n",
              "      <td>25.0</td>\n",
              "      <td>1010.6</td>\n",
              "      <td>1007.8</td>\n",
              "      <td>17.2</td>\n",
              "      <td>24.3</td>\n",
              "      <td>No</td>\n",
              "      <td>No</td>\n",
              "    </tr>\n",
              "    <tr>\n",
              "      <th>2</th>\n",
              "      <td>2008-12-03</td>\n",
              "      <td>Albury</td>\n",
              "      <td>12.9</td>\n",
              "      <td>25.7</td>\n",
              "      <td>0.0</td>\n",
              "      <td>WSW</td>\n",
              "      <td>46.0</td>\n",
              "      <td>W</td>\n",
              "      <td>WSW</td>\n",
              "      <td>19.0</td>\n",
              "      <td>26.0</td>\n",
              "      <td>38.0</td>\n",
              "      <td>30.0</td>\n",
              "      <td>1007.6</td>\n",
              "      <td>1008.7</td>\n",
              "      <td>21.0</td>\n",
              "      <td>23.2</td>\n",
              "      <td>No</td>\n",
              "      <td>No</td>\n",
              "    </tr>\n",
              "    <tr>\n",
              "      <th>3</th>\n",
              "      <td>2008-12-04</td>\n",
              "      <td>Albury</td>\n",
              "      <td>9.2</td>\n",
              "      <td>28.0</td>\n",
              "      <td>0.0</td>\n",
              "      <td>NE</td>\n",
              "      <td>24.0</td>\n",
              "      <td>SE</td>\n",
              "      <td>E</td>\n",
              "      <td>11.0</td>\n",
              "      <td>9.0</td>\n",
              "      <td>45.0</td>\n",
              "      <td>16.0</td>\n",
              "      <td>1017.6</td>\n",
              "      <td>1012.8</td>\n",
              "      <td>18.1</td>\n",
              "      <td>26.5</td>\n",
              "      <td>No</td>\n",
              "      <td>No</td>\n",
              "    </tr>\n",
              "    <tr>\n",
              "      <th>4</th>\n",
              "      <td>2008-12-05</td>\n",
              "      <td>Albury</td>\n",
              "      <td>17.5</td>\n",
              "      <td>32.3</td>\n",
              "      <td>1.0</td>\n",
              "      <td>W</td>\n",
              "      <td>41.0</td>\n",
              "      <td>ENE</td>\n",
              "      <td>NW</td>\n",
              "      <td>7.0</td>\n",
              "      <td>20.0</td>\n",
              "      <td>82.0</td>\n",
              "      <td>33.0</td>\n",
              "      <td>1010.8</td>\n",
              "      <td>1006.0</td>\n",
              "      <td>17.8</td>\n",
              "      <td>29.7</td>\n",
              "      <td>No</td>\n",
              "      <td>No</td>\n",
              "    </tr>\n",
              "  </tbody>\n",
              "</table>\n",
              "</div>"
            ],
            "text/plain": [
              "         Date Location  MinTemp  ...  Temp3pm  RainToday RainTomorrow\n",
              "0  2008-12-01   Albury     13.4  ...     21.8         No           No\n",
              "1  2008-12-02   Albury      7.4  ...     24.3         No           No\n",
              "2  2008-12-03   Albury     12.9  ...     23.2         No           No\n",
              "3  2008-12-04   Albury      9.2  ...     26.5         No           No\n",
              "4  2008-12-05   Albury     17.5  ...     29.7         No           No\n",
              "\n",
              "[5 rows x 19 columns]"
            ]
          },
          "metadata": {
            "tags": []
          },
          "execution_count": 10
        }
      ]
    },
    {
      "cell_type": "markdown",
      "metadata": {
        "id": "V_LzJDXXJhbl"
      },
      "source": [
        "Now we have to fill the missing values using **SimpleImputer**."
      ]
    },
    {
      "cell_type": "code",
      "metadata": {
        "colab": {
          "base_uri": "https://localhost:8080/"
        },
        "id": "CwMdvsqRJdzH",
        "outputId": "6d47789d-e0f6-4bb4-c8f7-c2b297ccf8b2"
      },
      "source": [
        "from sklearn.impute import SimpleImputer\n",
        "\n",
        "smp=SimpleImputer(missing_values=np.NaN, strategy='most_frequent') #for string values we use \"most_frequent\" strategy\n",
        "smf=SimpleImputer(missing_values=np.NaN, strategy='mean')  #for float or int values we use \"mean\" strategy\n",
        "for col in df_new.columns:\n",
        "  if df_new[col].dtype=='O':\n",
        "    df_new.loc[:,[col]]=smp.fit_transform(df_new.loc[:,[col]])\n",
        "  else:\n",
        "    df_new.loc[:,[col]]=smf.fit_transform(df_new.loc[:,[col]])\n",
        "\n",
        "\n",
        "df_new.isna().sum()"
      ],
      "execution_count": 11,
      "outputs": [
        {
          "output_type": "execute_result",
          "data": {
            "text/plain": [
              "Date             0\n",
              "Location         0\n",
              "MinTemp          0\n",
              "MaxTemp          0\n",
              "Rainfall         0\n",
              "WindGustDir      0\n",
              "WindGustSpeed    0\n",
              "WindDir9am       0\n",
              "WindDir3pm       0\n",
              "WindSpeed9am     0\n",
              "WindSpeed3pm     0\n",
              "Humidity9am      0\n",
              "Humidity3pm      0\n",
              "Pressure9am      0\n",
              "Pressure3pm      0\n",
              "Temp9am          0\n",
              "Temp3pm          0\n",
              "RainToday        0\n",
              "RainTomorrow     0\n",
              "dtype: int64"
            ]
          },
          "metadata": {
            "tags": []
          },
          "execution_count": 11
        }
      ]
    },
    {
      "cell_type": "markdown",
      "metadata": {
        "id": "1BjEzXzmUsiA"
      },
      "source": [
        "Now, lets find the no. of unique values in each feature."
      ]
    },
    {
      "cell_type": "code",
      "metadata": {
        "colab": {
          "base_uri": "https://localhost:8080/"
        },
        "id": "72VRoBTRqWx7",
        "outputId": "d2f97c17-26de-4d00-8356-a7d6f80ab27e"
      },
      "source": [
        "for col in df_new.columns:\n",
        "  print(col,df_new[col].unique().size)\n",
        "\n"
      ],
      "execution_count": 12,
      "outputs": [
        {
          "output_type": "stream",
          "text": [
            "Date 3436\n",
            "Location 49\n",
            "MinTemp 390\n",
            "MaxTemp 506\n",
            "Rainfall 682\n",
            "WindGustDir 16\n",
            "WindGustSpeed 68\n",
            "WindDir9am 16\n",
            "WindDir3pm 16\n",
            "WindSpeed9am 44\n",
            "WindSpeed3pm 45\n",
            "Humidity9am 102\n",
            "Humidity3pm 102\n",
            "Pressure9am 547\n",
            "Pressure3pm 550\n",
            "Temp9am 442\n",
            "Temp3pm 503\n",
            "RainToday 2\n",
            "RainTomorrow 2\n"
          ],
          "name": "stdout"
        }
      ]
    },
    {
      "cell_type": "markdown",
      "metadata": {
        "id": "QVw63zX8zi2M"
      },
      "source": [
        "Let us find how the Possibility of rain occuring the next day varies with the other features through **Graphs**.\n",
        "\n",
        "\n",
        "---\n",
        "\n",
        "\n",
        "Here we convert the string type variables in \"RainTomorrow\" to Integer type to analyse the data in a better way through graphs.\n",
        "\n",
        "***(Yes-1,No-0)***."
      ]
    },
    {
      "cell_type": "code",
      "metadata": {
        "id": "5XmT0fny_Cls"
      },
      "source": [
        "dcs=dict()\n",
        "unique_val=np.unique(df_new[\"RainTomorrow\"].values)\n",
        "for i,v in enumerate(unique_val):\n",
        "  dcs.update({v:i})\n",
        "df_new[\"RainTomorrow\"]=df_new[\"RainTomorrow\"].map(dcs)\n",
        "y=df_new[\"RainTomorrow\"]\n"
      ],
      "execution_count": 13,
      "outputs": []
    },
    {
      "cell_type": "code",
      "metadata": {
        "colab": {
          "base_uri": "https://localhost:8080/",
          "height": 296
        },
        "id": "-S8eAULE0Wvy",
        "outputId": "f0480670-097d-45ee-b5c0-a107466bf034"
      },
      "source": [
        "df_new[[\"RainTomorrow\",\"MinTemp\"]].groupby(\"MinTemp\").mean().plot(kind=\"line\")"
      ],
      "execution_count": 14,
      "outputs": [
        {
          "output_type": "execute_result",
          "data": {
            "text/plain": [
              "<matplotlib.axes._subplots.AxesSubplot at 0x7f97e8694b10>"
            ]
          },
          "metadata": {
            "tags": []
          },
          "execution_count": 14
        },
        {
          "output_type": "display_data",
          "data": {
            "image/png": "[encoded data removed]",
            "text/plain": [
              "<Figure size 432x288 with 1 Axes>"
            ]
          },
          "metadata": {
            "tags": [],
            "needs_background": "light"
          }
        }
      ]
    },
    {
      "cell_type": "markdown",
      "metadata": {
        "id": "bm2m4baH7q6M"
      },
      "source": [
        "From here We can observe that \n",
        "*   When the preious day's Minimum temperature is between (-6 to -7) or (25 to 30) there is higher possibility of Rain occuring the next day.\n",
        "\n"
      ]
    },
    {
      "cell_type": "code",
      "metadata": {
        "colab": {
          "base_uri": "https://localhost:8080/",
          "height": 296
        },
        "id": "XUawE3S08V8j",
        "outputId": "938e9919-dad1-4dab-a375-5763fd102f76"
      },
      "source": [
        "df_new[[\"RainTomorrow\",\"MaxTemp\"]].groupby(\"MaxTemp\").mean().plot(kind=\"line\")"
      ],
      "execution_count": 15,
      "outputs": [
        {
          "output_type": "execute_result",
          "data": {
            "text/plain": [
              "<matplotlib.axes._subplots.AxesSubplot at 0x7f97e3b35c50>"
            ]
          },
          "metadata": {
            "tags": []
          },
          "execution_count": 15
        },
        {
          "output_type": "display_data",
          "data": {
            "image/png": "[encoded data removed]",
            "text/plain": [
              "<Figure size 432x288 with 1 Axes>"
            ]
          },
          "metadata": {
            "tags": [],
            "needs_background": "light"
          }
        }
      ]
    },
    {
      "cell_type": "markdown",
      "metadata": {
        "id": "Q5j_LkZv-fqB"
      },
      "source": [
        "From here We can observe that \n",
        "*   When the previous day's Maximum temperature is between (-4 to 0) there is higher possibility of Rain occuring the next day."
      ]
    },
    {
      "cell_type": "code",
      "metadata": {
        "colab": {
          "base_uri": "https://localhost:8080/",
          "height": 314
        },
        "id": "NOk4_a2JFV3T",
        "outputId": "05c8dd3a-c7ff-4208-b32a-012266cd3858"
      },
      "source": [
        "df_new[[\"RainTomorrow\",\"WindGustDir\"]].groupby(\"WindGustDir\").mean().plot(kind=\"bar\")"
      ],
      "execution_count": 16,
      "outputs": [
        {
          "output_type": "execute_result",
          "data": {
            "text/plain": [
              "<matplotlib.axes._subplots.AxesSubplot at 0x7f97e38aae10>"
            ]
          },
          "metadata": {
            "tags": []
          },
          "execution_count": 16
        },
        {
          "output_type": "display_data",
          "data": {
            "image/png": "[encoded data removed]",
            "text/plain": [
              "<Figure size 432x288 with 1 Axes>"
            ]
          },
          "metadata": {
            "tags": [],
            "needs_background": "light"
          }
        }
      ]
    },
    {
      "cell_type": "code",
      "metadata": {
        "colab": {
          "base_uri": "https://localhost:8080/",
          "height": 314
        },
        "id": "j7Jr_fTRGZEn",
        "outputId": "9d1030d2-7e8f-4a5a-f096-ef518d12fdff"
      },
      "source": [
        "df_new[[\"RainTomorrow\",\"WindDir9am\"]].groupby(\"WindDir9am\").mean().plot(kind=\"bar\")"
      ],
      "execution_count": 17,
      "outputs": [
        {
          "output_type": "execute_result",
          "data": {
            "text/plain": [
              "<matplotlib.axes._subplots.AxesSubplot at 0x7f97e35252d0>"
            ]
          },
          "metadata": {
            "tags": []
          },
          "execution_count": 17
        },
        {
          "output_type": "display_data",
          "data": {
            "image/png": "[encoded data removed]",
            "text/plain": [
              "<Figure size 432x288 with 1 Axes>"
            ]
          },
          "metadata": {
            "tags": [],
            "needs_background": "light"
          }
        }
      ]
    },
    {
      "cell_type": "code",
      "metadata": {
        "colab": {
          "base_uri": "https://localhost:8080/",
          "height": 314
        },
        "id": "-54Hp1m5G1cS",
        "outputId": "ee5fd256-5556-4c79-faca-8fff7d321637"
      },
      "source": [
        "df_new[[\"RainTomorrow\",\"WindDir3pm\"]].groupby(\"WindDir3pm\").mean().plot(kind=\"bar\")"
      ],
      "execution_count": 18,
      "outputs": [
        {
          "output_type": "execute_result",
          "data": {
            "text/plain": [
              "<matplotlib.axes._subplots.AxesSubplot at 0x7f97e3450e50>"
            ]
          },
          "metadata": {
            "tags": []
          },
          "execution_count": 18
        },
        {
          "output_type": "display_data",
          "data": {
            "image/png": "[encoded data removed]",
            "text/plain": [
              "<Figure size 432x288 with 1 Axes>"
            ]
          },
          "metadata": {
            "tags": [],
            "needs_background": "light"
          }
        }
      ]
    },
    {
      "cell_type": "code",
      "metadata": {
        "colab": {
          "base_uri": "https://localhost:8080/",
          "height": 302
        },
        "id": "QOUDgZFNHJ9N",
        "outputId": "80eb3199-8e2e-4bb9-fbd3-b37409d00594"
      },
      "source": [
        "df_new[[\"RainTomorrow\",\"RainToday\"]].groupby(\"RainToday\").mean().plot(kind=\"bar\",label=True)"
      ],
      "execution_count": 19,
      "outputs": [
        {
          "output_type": "execute_result",
          "data": {
            "text/plain": [
              "<matplotlib.axes._subplots.AxesSubplot at 0x7f97e3baf790>"
            ]
          },
          "metadata": {
            "tags": []
          },
          "execution_count": 19
        },
        {
          "output_type": "display_data",
          "data": {
            "image/png": "[encoded data removed]",
            "text/plain": [
              "<Figure size 432x288 with 1 Axes>"
            ]
          },
          "metadata": {
            "tags": [],
            "needs_background": "light"
          }
        }
      ]
    },
    {
      "cell_type": "markdown",
      "metadata": {
        "id": "QrrrgFeLIzEc"
      },
      "source": [
        "We can observe from these graphs that \n",
        "\n",
        "\n",
        "\n",
        "*   There is 16% chance of rain occuring the next day when there is no rain the previous day.\n",
        "\n",
        "*  There is 44% chance of rain occuring the next day when there is rain  the previous day.\n",
        "\n",
        "*   There is higher possiblity of rain occuring the next day when the Wind Gust direction is NNW\n",
        "\n",
        "\n",
        "\n",
        "\n",
        "\n",
        "\n"
      ]
    },
    {
      "cell_type": "code",
      "metadata": {
        "colab": {
          "base_uri": "https://localhost:8080/"
        },
        "id": "L1vi4oYsczU9",
        "outputId": "b9925d90-80fb-4a8b-f3ea-863abf63c5ef"
      },
      "source": [
        "df_new.dtypes"
      ],
      "execution_count": 20,
      "outputs": [
        {
          "output_type": "execute_result",
          "data": {
            "text/plain": [
              "Date              object\n",
              "Location          object\n",
              "MinTemp          float64\n",
              "MaxTemp          float64\n",
              "Rainfall         float64\n",
              "WindGustDir       object\n",
              "WindGustSpeed    float64\n",
              "WindDir9am        object\n",
              "WindDir3pm        object\n",
              "WindSpeed9am     float64\n",
              "WindSpeed3pm     float64\n",
              "Humidity9am      float64\n",
              "Humidity3pm      float64\n",
              "Pressure9am      float64\n",
              "Pressure3pm      float64\n",
              "Temp9am          float64\n",
              "Temp3pm          float64\n",
              "RainToday         object\n",
              "RainTomorrow       int64\n",
              "dtype: object"
            ]
          },
          "metadata": {
            "tags": []
          },
          "execution_count": 20
        }
      ]
    },
    {
      "cell_type": "markdown",
      "metadata": {
        "id": "W2OxSCQHdXDm"
      },
      "source": [
        "Here we can see that there are object type variables in the given data which have to be converted to integer type.\n",
        "\n",
        "We can use **LabelEncoder** which gives unique values for each string in a given column."
      ]
    },
    {
      "cell_type": "code",
      "metadata": {
        "colab": {
          "base_uri": "https://localhost:8080/",
          "height": 437
        },
        "id": "s62sdqfhdAnx",
        "outputId": "c34297a3-f69e-478d-991f-8de8c6be530f"
      },
      "source": [
        "from sklearn.preprocessing import LabelEncoder\n",
        "\n",
        "ls=LabelEncoder()\n",
        "for col in df_new.columns:\n",
        "  if df_new[col].dtype=='O':\n",
        "    df_new[col]=ls.fit_transform(df_new[col])\n",
        "df_new"
      ],
      "execution_count": 21,
      "outputs": [
        {
          "output_type": "execute_result",
          "data": {
            "text/html": [
              "<div>\n",
              "<style scoped>\n",
              "    .dataframe tbody tr th:only-of-type {\n",
              "        vertical-align: middle;\n",
              "    }\n",
              "\n",
              "    .dataframe tbody tr th {\n",
              "        vertical-align: top;\n",
              "    }\n",
              "\n",
              "    .dataframe thead th {\n",
              "        text-align: right;\n",
              "    }\n",
              "</style>\n",
              "<table border=\"1\" class=\"dataframe\">\n",
              "  <thead>\n",
              "    <tr style=\"text-align: right;\">\n",
              "      <th></th>\n",
              "      <th>Date</th>\n",
              "      <th>Location</th>\n",
              "      <th>MinTemp</th>\n",
              "      <th>MaxTemp</th>\n",
              "      <th>Rainfall</th>\n",
              "      <th>WindGustDir</th>\n",
              "      <th>WindGustSpeed</th>\n",
              "      <th>WindDir9am</th>\n",
              "      <th>WindDir3pm</th>\n",
              "      <th>WindSpeed9am</th>\n",
              "      <th>WindSpeed3pm</th>\n",
              "      <th>Humidity9am</th>\n",
              "      <th>Humidity3pm</th>\n",
              "      <th>Pressure9am</th>\n",
              "      <th>Pressure3pm</th>\n",
              "      <th>Temp9am</th>\n",
              "      <th>Temp3pm</th>\n",
              "      <th>RainToday</th>\n",
              "      <th>RainTomorrow</th>\n",
              "    </tr>\n",
              "  </thead>\n",
              "  <tbody>\n",
              "    <tr>\n",
              "      <th>0</th>\n",
              "      <td>396</td>\n",
              "      <td>2</td>\n",
              "      <td>13.4</td>\n",
              "      <td>22.900000</td>\n",
              "      <td>0.6</td>\n",
              "      <td>13</td>\n",
              "      <td>44.00000</td>\n",
              "      <td>13</td>\n",
              "      <td>14</td>\n",
              "      <td>20.0</td>\n",
              "      <td>24.0</td>\n",
              "      <td>71.0</td>\n",
              "      <td>22.0</td>\n",
              "      <td>1007.7</td>\n",
              "      <td>1007.1</td>\n",
              "      <td>16.9</td>\n",
              "      <td>21.8</td>\n",
              "      <td>0</td>\n",
              "      <td>0</td>\n",
              "    </tr>\n",
              "    <tr>\n",
              "      <th>1</th>\n",
              "      <td>397</td>\n",
              "      <td>2</td>\n",
              "      <td>7.4</td>\n",
              "      <td>25.100000</td>\n",
              "      <td>0.0</td>\n",
              "      <td>14</td>\n",
              "      <td>44.00000</td>\n",
              "      <td>6</td>\n",
              "      <td>15</td>\n",
              "      <td>4.0</td>\n",
              "      <td>22.0</td>\n",
              "      <td>44.0</td>\n",
              "      <td>25.0</td>\n",
              "      <td>1010.6</td>\n",
              "      <td>1007.8</td>\n",
              "      <td>17.2</td>\n",
              "      <td>24.3</td>\n",
              "      <td>0</td>\n",
              "      <td>0</td>\n",
              "    </tr>\n",
              "    <tr>\n",
              "      <th>2</th>\n",
              "      <td>398</td>\n",
              "      <td>2</td>\n",
              "      <td>12.9</td>\n",
              "      <td>25.700000</td>\n",
              "      <td>0.0</td>\n",
              "      <td>15</td>\n",
              "      <td>46.00000</td>\n",
              "      <td>13</td>\n",
              "      <td>15</td>\n",
              "      <td>19.0</td>\n",
              "      <td>26.0</td>\n",
              "      <td>38.0</td>\n",
              "      <td>30.0</td>\n",
              "      <td>1007.6</td>\n",
              "      <td>1008.7</td>\n",
              "      <td>21.0</td>\n",
              "      <td>23.2</td>\n",
              "      <td>0</td>\n",
              "      <td>0</td>\n",
              "    </tr>\n",
              "    <tr>\n",
              "      <th>3</th>\n",
              "      <td>399</td>\n",
              "      <td>2</td>\n",
              "      <td>9.2</td>\n",
              "      <td>28.000000</td>\n",
              "      <td>0.0</td>\n",
              "      <td>4</td>\n",
              "      <td>24.00000</td>\n",
              "      <td>9</td>\n",
              "      <td>0</td>\n",
              "      <td>11.0</td>\n",
              "      <td>9.0</td>\n",
              "      <td>45.0</td>\n",
              "      <td>16.0</td>\n",
              "      <td>1017.6</td>\n",
              "      <td>1012.8</td>\n",
              "      <td>18.1</td>\n",
              "      <td>26.5</td>\n",
              "      <td>0</td>\n",
              "      <td>0</td>\n",
              "    </tr>\n",
              "    <tr>\n",
              "      <th>4</th>\n",
              "      <td>400</td>\n",
              "      <td>2</td>\n",
              "      <td>17.5</td>\n",
              "      <td>32.300000</td>\n",
              "      <td>1.0</td>\n",
              "      <td>13</td>\n",
              "      <td>41.00000</td>\n",
              "      <td>1</td>\n",
              "      <td>7</td>\n",
              "      <td>7.0</td>\n",
              "      <td>20.0</td>\n",
              "      <td>82.0</td>\n",
              "      <td>33.0</td>\n",
              "      <td>1010.8</td>\n",
              "      <td>1006.0</td>\n",
              "      <td>17.8</td>\n",
              "      <td>29.7</td>\n",
              "      <td>0</td>\n",
              "      <td>0</td>\n",
              "    </tr>\n",
              "    <tr>\n",
              "      <th>...</th>\n",
              "      <td>...</td>\n",
              "      <td>...</td>\n",
              "      <td>...</td>\n",
              "      <td>...</td>\n",
              "      <td>...</td>\n",
              "      <td>...</td>\n",
              "      <td>...</td>\n",
              "      <td>...</td>\n",
              "      <td>...</td>\n",
              "      <td>...</td>\n",
              "      <td>...</td>\n",
              "      <td>...</td>\n",
              "      <td>...</td>\n",
              "      <td>...</td>\n",
              "      <td>...</td>\n",
              "      <td>...</td>\n",
              "      <td>...</td>\n",
              "      <td>...</td>\n",
              "      <td>...</td>\n",
              "    </tr>\n",
              "    <tr>\n",
              "      <th>145455</th>\n",
              "      <td>3431</td>\n",
              "      <td>41</td>\n",
              "      <td>2.8</td>\n",
              "      <td>23.400000</td>\n",
              "      <td>0.0</td>\n",
              "      <td>0</td>\n",
              "      <td>31.00000</td>\n",
              "      <td>9</td>\n",
              "      <td>1</td>\n",
              "      <td>13.0</td>\n",
              "      <td>11.0</td>\n",
              "      <td>51.0</td>\n",
              "      <td>24.0</td>\n",
              "      <td>1024.6</td>\n",
              "      <td>1020.3</td>\n",
              "      <td>10.1</td>\n",
              "      <td>22.4</td>\n",
              "      <td>0</td>\n",
              "      <td>0</td>\n",
              "    </tr>\n",
              "    <tr>\n",
              "      <th>145456</th>\n",
              "      <td>3432</td>\n",
              "      <td>41</td>\n",
              "      <td>3.6</td>\n",
              "      <td>25.300000</td>\n",
              "      <td>0.0</td>\n",
              "      <td>6</td>\n",
              "      <td>22.00000</td>\n",
              "      <td>9</td>\n",
              "      <td>3</td>\n",
              "      <td>13.0</td>\n",
              "      <td>9.0</td>\n",
              "      <td>56.0</td>\n",
              "      <td>21.0</td>\n",
              "      <td>1023.5</td>\n",
              "      <td>1019.1</td>\n",
              "      <td>10.9</td>\n",
              "      <td>24.5</td>\n",
              "      <td>0</td>\n",
              "      <td>0</td>\n",
              "    </tr>\n",
              "    <tr>\n",
              "      <th>145457</th>\n",
              "      <td>3433</td>\n",
              "      <td>41</td>\n",
              "      <td>5.4</td>\n",
              "      <td>26.900000</td>\n",
              "      <td>0.0</td>\n",
              "      <td>3</td>\n",
              "      <td>37.00000</td>\n",
              "      <td>9</td>\n",
              "      <td>14</td>\n",
              "      <td>9.0</td>\n",
              "      <td>9.0</td>\n",
              "      <td>53.0</td>\n",
              "      <td>24.0</td>\n",
              "      <td>1021.0</td>\n",
              "      <td>1016.8</td>\n",
              "      <td>12.5</td>\n",
              "      <td>26.1</td>\n",
              "      <td>0</td>\n",
              "      <td>0</td>\n",
              "    </tr>\n",
              "    <tr>\n",
              "      <th>145458</th>\n",
              "      <td>3434</td>\n",
              "      <td>41</td>\n",
              "      <td>7.8</td>\n",
              "      <td>27.000000</td>\n",
              "      <td>0.0</td>\n",
              "      <td>9</td>\n",
              "      <td>28.00000</td>\n",
              "      <td>10</td>\n",
              "      <td>3</td>\n",
              "      <td>13.0</td>\n",
              "      <td>7.0</td>\n",
              "      <td>51.0</td>\n",
              "      <td>24.0</td>\n",
              "      <td>1019.4</td>\n",
              "      <td>1016.5</td>\n",
              "      <td>15.1</td>\n",
              "      <td>26.0</td>\n",
              "      <td>0</td>\n",
              "      <td>0</td>\n",
              "    </tr>\n",
              "    <tr>\n",
              "      <th>145459</th>\n",
              "      <td>3435</td>\n",
              "      <td>41</td>\n",
              "      <td>14.9</td>\n",
              "      <td>23.221348</td>\n",
              "      <td>0.0</td>\n",
              "      <td>13</td>\n",
              "      <td>40.03523</td>\n",
              "      <td>2</td>\n",
              "      <td>2</td>\n",
              "      <td>17.0</td>\n",
              "      <td>17.0</td>\n",
              "      <td>62.0</td>\n",
              "      <td>36.0</td>\n",
              "      <td>1020.2</td>\n",
              "      <td>1017.9</td>\n",
              "      <td>15.0</td>\n",
              "      <td>20.9</td>\n",
              "      <td>0</td>\n",
              "      <td>0</td>\n",
              "    </tr>\n",
              "  </tbody>\n",
              "</table>\n",
              "<p>145460 rows × 19 columns</p>\n",
              "</div>"
            ],
            "text/plain": [
              "        Date  Location  MinTemp  ...  Temp3pm  RainToday  RainTomorrow\n",
              "0        396         2     13.4  ...     21.8          0             0\n",
              "1        397         2      7.4  ...     24.3          0             0\n",
              "2        398         2     12.9  ...     23.2          0             0\n",
              "3        399         2      9.2  ...     26.5          0             0\n",
              "4        400         2     17.5  ...     29.7          0             0\n",
              "...      ...       ...      ...  ...      ...        ...           ...\n",
              "145455  3431        41      2.8  ...     22.4          0             0\n",
              "145456  3432        41      3.6  ...     24.5          0             0\n",
              "145457  3433        41      5.4  ...     26.1          0             0\n",
              "145458  3434        41      7.8  ...     26.0          0             0\n",
              "145459  3435        41     14.9  ...     20.9          0             0\n",
              "\n",
              "[145460 rows x 19 columns]"
            ]
          },
          "metadata": {
            "tags": []
          },
          "execution_count": 21
        }
      ]
    },
    {
      "cell_type": "code",
      "metadata": {
        "colab": {
          "base_uri": "https://localhost:8080/"
        },
        "id": "TqPxBeW6dvmu",
        "outputId": "7c680d3d-35fc-4def-8ae3-5ec1572bee33"
      },
      "source": [
        "df=df_new\n",
        "df.dtypes"
      ],
      "execution_count": 22,
      "outputs": [
        {
          "output_type": "execute_result",
          "data": {
            "text/plain": [
              "Date               int64\n",
              "Location           int64\n",
              "MinTemp          float64\n",
              "MaxTemp          float64\n",
              "Rainfall         float64\n",
              "WindGustDir        int64\n",
              "WindGustSpeed    float64\n",
              "WindDir9am         int64\n",
              "WindDir3pm         int64\n",
              "WindSpeed9am     float64\n",
              "WindSpeed3pm     float64\n",
              "Humidity9am      float64\n",
              "Humidity3pm      float64\n",
              "Pressure9am      float64\n",
              "Pressure3pm      float64\n",
              "Temp9am          float64\n",
              "Temp3pm          float64\n",
              "RainToday          int64\n",
              "RainTomorrow       int64\n",
              "dtype: object"
            ]
          },
          "metadata": {
            "tags": []
          },
          "execution_count": 22
        }
      ]
    },
    {
      "cell_type": "markdown",
      "metadata": {
        "id": "nBkCpDjnuUK8"
      },
      "source": [
        "Now We have data without missing values and without strings so we can create **A Machine Learning Model** which predicts the next day's weather as 1 for \"Yes\" and 0 for \"No\""
      ]
    },
    {
      "cell_type": "code",
      "metadata": {
        "colab": {
          "base_uri": "https://localhost:8080/",
          "height": 315
        },
        "id": "ZKQ2y5zTsSef",
        "outputId": "b81d8f61-20a6-43ea-e000-95e35d2a7d7f"
      },
      "source": [
        "df.describe()"
      ],
      "execution_count": 23,
      "outputs": [
        {
          "output_type": "execute_result",
          "data": {
            "text/html": [
              "<div>\n",
              "<style scoped>\n",
              "    .dataframe tbody tr th:only-of-type {\n",
              "        vertical-align: middle;\n",
              "    }\n",
              "\n",
              "    .dataframe tbody tr th {\n",
              "        vertical-align: top;\n",
              "    }\n",
              "\n",
              "    .dataframe thead th {\n",
              "        text-align: right;\n",
              "    }\n",
              "</style>\n",
              "<table border=\"1\" class=\"dataframe\">\n",
              "  <thead>\n",
              "    <tr style=\"text-align: right;\">\n",
              "      <th></th>\n",
              "      <th>Date</th>\n",
              "      <th>Location</th>\n",
              "      <th>MinTemp</th>\n",
              "      <th>MaxTemp</th>\n",
              "      <th>Rainfall</th>\n",
              "      <th>WindGustDir</th>\n",
              "      <th>WindGustSpeed</th>\n",
              "      <th>WindDir9am</th>\n",
              "      <th>WindDir3pm</th>\n",
              "      <th>WindSpeed9am</th>\n",
              "      <th>WindSpeed3pm</th>\n",
              "      <th>Humidity9am</th>\n",
              "      <th>Humidity3pm</th>\n",
              "      <th>Pressure9am</th>\n",
              "      <th>Pressure3pm</th>\n",
              "      <th>Temp9am</th>\n",
              "      <th>Temp3pm</th>\n",
              "      <th>RainToday</th>\n",
              "      <th>RainTomorrow</th>\n",
              "    </tr>\n",
              "  </thead>\n",
              "  <tbody>\n",
              "    <tr>\n",
              "      <th>count</th>\n",
              "      <td>145460.000000</td>\n",
              "      <td>145460.000000</td>\n",
              "      <td>145460.000000</td>\n",
              "      <td>145460.000000</td>\n",
              "      <td>145460.000000</td>\n",
              "      <td>145460.00000</td>\n",
              "      <td>145460.000000</td>\n",
              "      <td>145460.000000</td>\n",
              "      <td>145460.000000</td>\n",
              "      <td>145460.000000</td>\n",
              "      <td>145460.000000</td>\n",
              "      <td>145460.000000</td>\n",
              "      <td>145460.000000</td>\n",
              "      <td>145460.000000</td>\n",
              "      <td>145460.000000</td>\n",
              "      <td>145460.000000</td>\n",
              "      <td>145460.000000</td>\n",
              "      <td>145460.000000</td>\n",
              "      <td>145460.000000</td>\n",
              "    </tr>\n",
              "    <tr>\n",
              "      <th>mean</th>\n",
              "      <td>1928.475478</td>\n",
              "      <td>23.793524</td>\n",
              "      <td>12.194034</td>\n",
              "      <td>23.221348</td>\n",
              "      <td>2.360918</td>\n",
              "      <td>8.09360</td>\n",
              "      <td>40.035230</td>\n",
              "      <td>6.999526</td>\n",
              "      <td>7.798852</td>\n",
              "      <td>14.043426</td>\n",
              "      <td>18.662657</td>\n",
              "      <td>68.880831</td>\n",
              "      <td>51.539116</td>\n",
              "      <td>1017.649940</td>\n",
              "      <td>1015.255889</td>\n",
              "      <td>16.990631</td>\n",
              "      <td>21.683390</td>\n",
              "      <td>0.219167</td>\n",
              "      <td>0.219146</td>\n",
              "    </tr>\n",
              "    <tr>\n",
              "      <th>std</th>\n",
              "      <td>884.988002</td>\n",
              "      <td>14.228687</td>\n",
              "      <td>6.365750</td>\n",
              "      <td>7.088124</td>\n",
              "      <td>8.382488</td>\n",
              "      <td>4.69411</td>\n",
              "      <td>13.118253</td>\n",
              "      <td>4.515839</td>\n",
              "      <td>4.538135</td>\n",
              "      <td>8.861059</td>\n",
              "      <td>8.716581</td>\n",
              "      <td>18.854765</td>\n",
              "      <td>20.471189</td>\n",
              "      <td>6.728467</td>\n",
              "      <td>6.663973</td>\n",
              "      <td>6.449221</td>\n",
              "      <td>6.850057</td>\n",
              "      <td>0.413683</td>\n",
              "      <td>0.413669</td>\n",
              "    </tr>\n",
              "    <tr>\n",
              "      <th>min</th>\n",
              "      <td>0.000000</td>\n",
              "      <td>0.000000</td>\n",
              "      <td>-8.500000</td>\n",
              "      <td>-4.800000</td>\n",
              "      <td>0.000000</td>\n",
              "      <td>0.00000</td>\n",
              "      <td>6.000000</td>\n",
              "      <td>0.000000</td>\n",
              "      <td>0.000000</td>\n",
              "      <td>0.000000</td>\n",
              "      <td>0.000000</td>\n",
              "      <td>0.000000</td>\n",
              "      <td>0.000000</td>\n",
              "      <td>980.500000</td>\n",
              "      <td>977.100000</td>\n",
              "      <td>-7.200000</td>\n",
              "      <td>-5.400000</td>\n",
              "      <td>0.000000</td>\n",
              "      <td>0.000000</td>\n",
              "    </tr>\n",
              "    <tr>\n",
              "      <th>25%</th>\n",
              "      <td>1167.000000</td>\n",
              "      <td>11.000000</td>\n",
              "      <td>7.700000</td>\n",
              "      <td>18.000000</td>\n",
              "      <td>0.000000</td>\n",
              "      <td>4.00000</td>\n",
              "      <td>31.000000</td>\n",
              "      <td>3.000000</td>\n",
              "      <td>4.000000</td>\n",
              "      <td>7.000000</td>\n",
              "      <td>13.000000</td>\n",
              "      <td>57.000000</td>\n",
              "      <td>37.000000</td>\n",
              "      <td>1013.500000</td>\n",
              "      <td>1011.100000</td>\n",
              "      <td>12.300000</td>\n",
              "      <td>16.700000</td>\n",
              "      <td>0.000000</td>\n",
              "      <td>0.000000</td>\n",
              "    </tr>\n",
              "    <tr>\n",
              "      <th>50%</th>\n",
              "      <td>1951.000000</td>\n",
              "      <td>24.000000</td>\n",
              "      <td>12.100000</td>\n",
              "      <td>22.700000</td>\n",
              "      <td>0.000000</td>\n",
              "      <td>9.00000</td>\n",
              "      <td>39.000000</td>\n",
              "      <td>7.000000</td>\n",
              "      <td>8.000000</td>\n",
              "      <td>13.000000</td>\n",
              "      <td>18.662657</td>\n",
              "      <td>69.000000</td>\n",
              "      <td>51.539116</td>\n",
              "      <td>1017.649940</td>\n",
              "      <td>1015.255889</td>\n",
              "      <td>16.800000</td>\n",
              "      <td>21.400000</td>\n",
              "      <td>0.000000</td>\n",
              "      <td>0.000000</td>\n",
              "    </tr>\n",
              "    <tr>\n",
              "      <th>75%</th>\n",
              "      <td>2693.000000</td>\n",
              "      <td>36.000000</td>\n",
              "      <td>16.800000</td>\n",
              "      <td>28.200000</td>\n",
              "      <td>1.000000</td>\n",
              "      <td>13.00000</td>\n",
              "      <td>46.000000</td>\n",
              "      <td>11.000000</td>\n",
              "      <td>12.000000</td>\n",
              "      <td>19.000000</td>\n",
              "      <td>24.000000</td>\n",
              "      <td>83.000000</td>\n",
              "      <td>65.000000</td>\n",
              "      <td>1021.800000</td>\n",
              "      <td>1019.400000</td>\n",
              "      <td>21.500000</td>\n",
              "      <td>26.200000</td>\n",
              "      <td>0.000000</td>\n",
              "      <td>0.000000</td>\n",
              "    </tr>\n",
              "    <tr>\n",
              "      <th>max</th>\n",
              "      <td>3435.000000</td>\n",
              "      <td>48.000000</td>\n",
              "      <td>33.900000</td>\n",
              "      <td>48.100000</td>\n",
              "      <td>371.000000</td>\n",
              "      <td>15.00000</td>\n",
              "      <td>135.000000</td>\n",
              "      <td>15.000000</td>\n",
              "      <td>15.000000</td>\n",
              "      <td>130.000000</td>\n",
              "      <td>87.000000</td>\n",
              "      <td>100.000000</td>\n",
              "      <td>100.000000</td>\n",
              "      <td>1041.000000</td>\n",
              "      <td>1039.600000</td>\n",
              "      <td>40.200000</td>\n",
              "      <td>46.700000</td>\n",
              "      <td>1.000000</td>\n",
              "      <td>1.000000</td>\n",
              "    </tr>\n",
              "  </tbody>\n",
              "</table>\n",
              "</div>"
            ],
            "text/plain": [
              "                Date       Location  ...      RainToday   RainTomorrow\n",
              "count  145460.000000  145460.000000  ...  145460.000000  145460.000000\n",
              "mean     1928.475478      23.793524  ...       0.219167       0.219146\n",
              "std       884.988002      14.228687  ...       0.413683       0.413669\n",
              "min         0.000000       0.000000  ...       0.000000       0.000000\n",
              "25%      1167.000000      11.000000  ...       0.000000       0.000000\n",
              "50%      1951.000000      24.000000  ...       0.000000       0.000000\n",
              "75%      2693.000000      36.000000  ...       0.000000       0.000000\n",
              "max      3435.000000      48.000000  ...       1.000000       1.000000\n",
              "\n",
              "[8 rows x 19 columns]"
            ]
          },
          "metadata": {
            "tags": []
          },
          "execution_count": 23
        }
      ]
    },
    {
      "cell_type": "code",
      "metadata": {
        "colab": {
          "base_uri": "https://localhost:8080/",
          "height": 654
        },
        "id": "sqnoSc08u9sA",
        "outputId": "64f462e8-1187-4411-9f97-3a4424456e6f"
      },
      "source": [
        "cor_mat=df.corr()\n",
        "cor_mat"
      ],
      "execution_count": 24,
      "outputs": [
        {
          "output_type": "execute_result",
          "data": {
            "text/html": [
              "<div>\n",
              "<style scoped>\n",
              "    .dataframe tbody tr th:only-of-type {\n",
              "        vertical-align: middle;\n",
              "    }\n",
              "\n",
              "    .dataframe tbody tr th {\n",
              "        vertical-align: top;\n",
              "    }\n",
              "\n",
              "    .dataframe thead th {\n",
              "        text-align: right;\n",
              "    }\n",
              "</style>\n",
              "<table border=\"1\" class=\"dataframe\">\n",
              "  <thead>\n",
              "    <tr style=\"text-align: right;\">\n",
              "      <th></th>\n",
              "      <th>Date</th>\n",
              "      <th>Location</th>\n",
              "      <th>MinTemp</th>\n",
              "      <th>MaxTemp</th>\n",
              "      <th>Rainfall</th>\n",
              "      <th>WindGustDir</th>\n",
              "      <th>WindGustSpeed</th>\n",
              "      <th>WindDir9am</th>\n",
              "      <th>WindDir3pm</th>\n",
              "      <th>WindSpeed9am</th>\n",
              "      <th>WindSpeed3pm</th>\n",
              "      <th>Humidity9am</th>\n",
              "      <th>Humidity3pm</th>\n",
              "      <th>Pressure9am</th>\n",
              "      <th>Pressure3pm</th>\n",
              "      <th>Temp9am</th>\n",
              "      <th>Temp3pm</th>\n",
              "      <th>RainToday</th>\n",
              "      <th>RainTomorrow</th>\n",
              "    </tr>\n",
              "  </thead>\n",
              "  <tbody>\n",
              "    <tr>\n",
              "      <th>Date</th>\n",
              "      <td>1.000000</td>\n",
              "      <td>0.019887</td>\n",
              "      <td>0.020929</td>\n",
              "      <td>0.043892</td>\n",
              "      <td>-0.012112</td>\n",
              "      <td>-0.019588</td>\n",
              "      <td>-0.022976</td>\n",
              "      <td>0.002318</td>\n",
              "      <td>0.002245</td>\n",
              "      <td>-0.012682</td>\n",
              "      <td>-0.022834</td>\n",
              "      <td>0.000045</td>\n",
              "      <td>-0.010951</td>\n",
              "      <td>0.031792</td>\n",
              "      <td>0.025755</td>\n",
              "      <td>0.031165</td>\n",
              "      <td>0.031318</td>\n",
              "      <td>-0.012801</td>\n",
              "      <td>-0.013013</td>\n",
              "    </tr>\n",
              "    <tr>\n",
              "      <th>Location</th>\n",
              "      <td>0.019887</td>\n",
              "      <td>1.000000</td>\n",
              "      <td>-0.006766</td>\n",
              "      <td>-0.020784</td>\n",
              "      <td>-0.002732</td>\n",
              "      <td>-0.003732</td>\n",
              "      <td>0.068780</td>\n",
              "      <td>-0.002439</td>\n",
              "      <td>0.008769</td>\n",
              "      <td>0.076403</td>\n",
              "      <td>0.063569</td>\n",
              "      <td>-0.000038</td>\n",
              "      <td>0.012786</td>\n",
              "      <td>0.036066</td>\n",
              "      <td>0.045937</td>\n",
              "      <td>-0.015990</td>\n",
              "      <td>-0.023260</td>\n",
              "      <td>-0.005484</td>\n",
              "      <td>-0.005498</td>\n",
              "    </tr>\n",
              "    <tr>\n",
              "      <th>MinTemp</th>\n",
              "      <td>0.020929</td>\n",
              "      <td>-0.006766</td>\n",
              "      <td>1.000000</td>\n",
              "      <td>0.733400</td>\n",
              "      <td>0.102706</td>\n",
              "      <td>-0.136443</td>\n",
              "      <td>0.172553</td>\n",
              "      <td>-0.031327</td>\n",
              "      <td>-0.159783</td>\n",
              "      <td>0.173404</td>\n",
              "      <td>0.173058</td>\n",
              "      <td>-0.230970</td>\n",
              "      <td>0.005995</td>\n",
              "      <td>-0.423584</td>\n",
              "      <td>-0.433147</td>\n",
              "      <td>0.897692</td>\n",
              "      <td>0.699211</td>\n",
              "      <td>0.054559</td>\n",
              "      <td>0.082173</td>\n",
              "    </tr>\n",
              "    <tr>\n",
              "      <th>MaxTemp</th>\n",
              "      <td>0.043892</td>\n",
              "      <td>-0.020784</td>\n",
              "      <td>0.733400</td>\n",
              "      <td>1.000000</td>\n",
              "      <td>-0.074040</td>\n",
              "      <td>-0.211930</td>\n",
              "      <td>0.065895</td>\n",
              "      <td>-0.212968</td>\n",
              "      <td>-0.182044</td>\n",
              "      <td>0.014294</td>\n",
              "      <td>0.049717</td>\n",
              "      <td>-0.497927</td>\n",
              "      <td>-0.498760</td>\n",
              "      <td>-0.308309</td>\n",
              "      <td>-0.396622</td>\n",
              "      <td>0.879170</td>\n",
              "      <td>0.968713</td>\n",
              "      <td>-0.225439</td>\n",
              "      <td>-0.156851</td>\n",
              "    </tr>\n",
              "    <tr>\n",
              "      <th>Rainfall</th>\n",
              "      <td>-0.012112</td>\n",
              "      <td>-0.002732</td>\n",
              "      <td>0.102706</td>\n",
              "      <td>-0.074040</td>\n",
              "      <td>1.000000</td>\n",
              "      <td>0.044620</td>\n",
              "      <td>0.126446</td>\n",
              "      <td>0.084716</td>\n",
              "      <td>0.048193</td>\n",
              "      <td>0.085925</td>\n",
              "      <td>0.056527</td>\n",
              "      <td>0.221380</td>\n",
              "      <td>0.248905</td>\n",
              "      <td>-0.159055</td>\n",
              "      <td>-0.119541</td>\n",
              "      <td>0.011069</td>\n",
              "      <td>-0.077684</td>\n",
              "      <td>0.499899</td>\n",
              "      <td>0.233900</td>\n",
              "    </tr>\n",
              "    <tr>\n",
              "      <th>WindGustDir</th>\n",
              "      <td>-0.019588</td>\n",
              "      <td>-0.003732</td>\n",
              "      <td>-0.136443</td>\n",
              "      <td>-0.211930</td>\n",
              "      <td>0.044620</td>\n",
              "      <td>1.000000</td>\n",
              "      <td>0.136200</td>\n",
              "      <td>0.353790</td>\n",
              "      <td>0.563161</td>\n",
              "      <td>0.008386</td>\n",
              "      <td>0.084011</td>\n",
              "      <td>0.068775</td>\n",
              "      <td>0.065027</td>\n",
              "      <td>-0.119516</td>\n",
              "      <td>-0.031416</td>\n",
              "      <td>-0.177746</td>\n",
              "      <td>-0.223028</td>\n",
              "      <td>0.124675</td>\n",
              "      <td>0.048774</td>\n",
              "    </tr>\n",
              "    <tr>\n",
              "      <th>WindGustSpeed</th>\n",
              "      <td>-0.022976</td>\n",
              "      <td>0.068780</td>\n",
              "      <td>0.172553</td>\n",
              "      <td>0.065895</td>\n",
              "      <td>0.126446</td>\n",
              "      <td>0.136200</td>\n",
              "      <td>1.000000</td>\n",
              "      <td>0.073234</td>\n",
              "      <td>0.135583</td>\n",
              "      <td>0.577319</td>\n",
              "      <td>0.657243</td>\n",
              "      <td>-0.207964</td>\n",
              "      <td>-0.025355</td>\n",
              "      <td>-0.425760</td>\n",
              "      <td>-0.383938</td>\n",
              "      <td>0.145904</td>\n",
              "      <td>0.031884</td>\n",
              "      <td>0.145700</td>\n",
              "      <td>0.220442</td>\n",
              "    </tr>\n",
              "    <tr>\n",
              "      <th>WindDir9am</th>\n",
              "      <td>0.002318</td>\n",
              "      <td>-0.002439</td>\n",
              "      <td>-0.031327</td>\n",
              "      <td>-0.212968</td>\n",
              "      <td>0.084716</td>\n",
              "      <td>0.353790</td>\n",
              "      <td>0.073234</td>\n",
              "      <td>1.000000</td>\n",
              "      <td>0.301249</td>\n",
              "      <td>0.108959</td>\n",
              "      <td>0.111575</td>\n",
              "      <td>0.088769</td>\n",
              "      <td>0.148476</td>\n",
              "      <td>-0.049202</td>\n",
              "      <td>0.040928</td>\n",
              "      <td>-0.116825</td>\n",
              "      <td>-0.220361</td>\n",
              "      <td>0.167718</td>\n",
              "      <td>0.035341</td>\n",
              "    </tr>\n",
              "    <tr>\n",
              "      <th>WindDir3pm</th>\n",
              "      <td>0.002245</td>\n",
              "      <td>0.008769</td>\n",
              "      <td>-0.159783</td>\n",
              "      <td>-0.182044</td>\n",
              "      <td>0.048193</td>\n",
              "      <td>0.563161</td>\n",
              "      <td>0.135583</td>\n",
              "      <td>0.301249</td>\n",
              "      <td>1.000000</td>\n",
              "      <td>0.050192</td>\n",
              "      <td>0.090691</td>\n",
              "      <td>0.026167</td>\n",
              "      <td>-0.006052</td>\n",
              "      <td>-0.133330</td>\n",
              "      <td>-0.037334</td>\n",
              "      <td>-0.176633</td>\n",
              "      <td>-0.193989</td>\n",
              "      <td>0.121719</td>\n",
              "      <td>0.028890</td>\n",
              "    </tr>\n",
              "    <tr>\n",
              "      <th>WindSpeed9am</th>\n",
              "      <td>-0.012682</td>\n",
              "      <td>0.076403</td>\n",
              "      <td>0.173404</td>\n",
              "      <td>0.014294</td>\n",
              "      <td>0.085925</td>\n",
              "      <td>0.008386</td>\n",
              "      <td>0.577319</td>\n",
              "      <td>0.108959</td>\n",
              "      <td>0.050192</td>\n",
              "      <td>1.000000</td>\n",
              "      <td>0.512427</td>\n",
              "      <td>-0.268271</td>\n",
              "      <td>-0.030887</td>\n",
              "      <td>-0.215339</td>\n",
              "      <td>-0.165388</td>\n",
              "      <td>0.127592</td>\n",
              "      <td>0.004476</td>\n",
              "      <td>0.098636</td>\n",
              "      <td>0.086661</td>\n",
              "    </tr>\n",
              "    <tr>\n",
              "      <th>WindSpeed3pm</th>\n",
              "      <td>-0.022834</td>\n",
              "      <td>0.063569</td>\n",
              "      <td>0.173058</td>\n",
              "      <td>0.049717</td>\n",
              "      <td>0.056527</td>\n",
              "      <td>0.084011</td>\n",
              "      <td>0.657243</td>\n",
              "      <td>0.111575</td>\n",
              "      <td>0.090691</td>\n",
              "      <td>0.512427</td>\n",
              "      <td>1.000000</td>\n",
              "      <td>-0.143458</td>\n",
              "      <td>0.016275</td>\n",
              "      <td>-0.277604</td>\n",
              "      <td>-0.239659</td>\n",
              "      <td>0.161060</td>\n",
              "      <td>0.027587</td>\n",
              "      <td>0.077076</td>\n",
              "      <td>0.084207</td>\n",
              "    </tr>\n",
              "    <tr>\n",
              "      <th>Humidity9am</th>\n",
              "      <td>0.000045</td>\n",
              "      <td>-0.000038</td>\n",
              "      <td>-0.230970</td>\n",
              "      <td>-0.497927</td>\n",
              "      <td>0.221380</td>\n",
              "      <td>0.068775</td>\n",
              "      <td>-0.207964</td>\n",
              "      <td>0.088769</td>\n",
              "      <td>0.026167</td>\n",
              "      <td>-0.268271</td>\n",
              "      <td>-0.143458</td>\n",
              "      <td>1.000000</td>\n",
              "      <td>0.659072</td>\n",
              "      <td>0.131503</td>\n",
              "      <td>0.176009</td>\n",
              "      <td>-0.469641</td>\n",
              "      <td>-0.490709</td>\n",
              "      <td>0.347034</td>\n",
              "      <td>0.251470</td>\n",
              "    </tr>\n",
              "    <tr>\n",
              "      <th>Humidity3pm</th>\n",
              "      <td>-0.010951</td>\n",
              "      <td>0.012786</td>\n",
              "      <td>0.005995</td>\n",
              "      <td>-0.498760</td>\n",
              "      <td>0.248905</td>\n",
              "      <td>0.065027</td>\n",
              "      <td>-0.025355</td>\n",
              "      <td>0.148476</td>\n",
              "      <td>-0.006052</td>\n",
              "      <td>-0.030887</td>\n",
              "      <td>0.016275</td>\n",
              "      <td>0.659072</td>\n",
              "      <td>1.000000</td>\n",
              "      <td>-0.025848</td>\n",
              "      <td>0.048695</td>\n",
              "      <td>-0.216964</td>\n",
              "      <td>-0.555608</td>\n",
              "      <td>0.367937</td>\n",
              "      <td>0.433179</td>\n",
              "    </tr>\n",
              "    <tr>\n",
              "      <th>Pressure9am</th>\n",
              "      <td>0.031792</td>\n",
              "      <td>0.036066</td>\n",
              "      <td>-0.423584</td>\n",
              "      <td>-0.308309</td>\n",
              "      <td>-0.159055</td>\n",
              "      <td>-0.119516</td>\n",
              "      <td>-0.425760</td>\n",
              "      <td>-0.049202</td>\n",
              "      <td>-0.133330</td>\n",
              "      <td>-0.215339</td>\n",
              "      <td>-0.277604</td>\n",
              "      <td>0.131503</td>\n",
              "      <td>-0.025848</td>\n",
              "      <td>1.000000</td>\n",
              "      <td>0.959662</td>\n",
              "      <td>-0.397131</td>\n",
              "      <td>-0.265532</td>\n",
              "      <td>-0.177981</td>\n",
              "      <td>-0.230975</td>\n",
              "    </tr>\n",
              "    <tr>\n",
              "      <th>Pressure3pm</th>\n",
              "      <td>0.025755</td>\n",
              "      <td>0.045937</td>\n",
              "      <td>-0.433147</td>\n",
              "      <td>-0.396622</td>\n",
              "      <td>-0.119541</td>\n",
              "      <td>-0.031416</td>\n",
              "      <td>-0.383938</td>\n",
              "      <td>0.040928</td>\n",
              "      <td>-0.037334</td>\n",
              "      <td>-0.165388</td>\n",
              "      <td>-0.239659</td>\n",
              "      <td>0.176009</td>\n",
              "      <td>0.048695</td>\n",
              "      <td>0.959662</td>\n",
              "      <td>1.000000</td>\n",
              "      <td>-0.441459</td>\n",
              "      <td>-0.360707</td>\n",
              "      <td>-0.099509</td>\n",
              "      <td>-0.211977</td>\n",
              "    </tr>\n",
              "    <tr>\n",
              "      <th>Temp9am</th>\n",
              "      <td>0.031165</td>\n",
              "      <td>-0.015990</td>\n",
              "      <td>0.897692</td>\n",
              "      <td>0.879170</td>\n",
              "      <td>0.011069</td>\n",
              "      <td>-0.177746</td>\n",
              "      <td>0.145904</td>\n",
              "      <td>-0.116825</td>\n",
              "      <td>-0.176633</td>\n",
              "      <td>0.127592</td>\n",
              "      <td>0.161060</td>\n",
              "      <td>-0.469641</td>\n",
              "      <td>-0.216964</td>\n",
              "      <td>-0.397131</td>\n",
              "      <td>-0.441459</td>\n",
              "      <td>1.000000</td>\n",
              "      <td>0.846141</td>\n",
              "      <td>-0.095952</td>\n",
              "      <td>-0.025555</td>\n",
              "    </tr>\n",
              "    <tr>\n",
              "      <th>Temp3pm</th>\n",
              "      <td>0.031318</td>\n",
              "      <td>-0.023260</td>\n",
              "      <td>0.699211</td>\n",
              "      <td>0.968713</td>\n",
              "      <td>-0.077684</td>\n",
              "      <td>-0.223028</td>\n",
              "      <td>0.031884</td>\n",
              "      <td>-0.220361</td>\n",
              "      <td>-0.193989</td>\n",
              "      <td>0.004476</td>\n",
              "      <td>0.027587</td>\n",
              "      <td>-0.490709</td>\n",
              "      <td>-0.555608</td>\n",
              "      <td>-0.265532</td>\n",
              "      <td>-0.360707</td>\n",
              "      <td>0.846141</td>\n",
              "      <td>1.000000</td>\n",
              "      <td>-0.229689</td>\n",
              "      <td>-0.187806</td>\n",
              "    </tr>\n",
              "    <tr>\n",
              "      <th>RainToday</th>\n",
              "      <td>-0.012801</td>\n",
              "      <td>-0.005484</td>\n",
              "      <td>0.054559</td>\n",
              "      <td>-0.225439</td>\n",
              "      <td>0.499899</td>\n",
              "      <td>0.124675</td>\n",
              "      <td>0.145700</td>\n",
              "      <td>0.167718</td>\n",
              "      <td>0.121719</td>\n",
              "      <td>0.098636</td>\n",
              "      <td>0.077076</td>\n",
              "      <td>0.347034</td>\n",
              "      <td>0.367937</td>\n",
              "      <td>-0.177981</td>\n",
              "      <td>-0.099509</td>\n",
              "      <td>-0.095952</td>\n",
              "      <td>-0.229689</td>\n",
              "      <td>1.000000</td>\n",
              "      <td>0.305744</td>\n",
              "    </tr>\n",
              "    <tr>\n",
              "      <th>RainTomorrow</th>\n",
              "      <td>-0.013013</td>\n",
              "      <td>-0.005498</td>\n",
              "      <td>0.082173</td>\n",
              "      <td>-0.156851</td>\n",
              "      <td>0.233900</td>\n",
              "      <td>0.048774</td>\n",
              "      <td>0.220442</td>\n",
              "      <td>0.035341</td>\n",
              "      <td>0.028890</td>\n",
              "      <td>0.086661</td>\n",
              "      <td>0.084207</td>\n",
              "      <td>0.251470</td>\n",
              "      <td>0.433179</td>\n",
              "      <td>-0.230975</td>\n",
              "      <td>-0.211977</td>\n",
              "      <td>-0.025555</td>\n",
              "      <td>-0.187806</td>\n",
              "      <td>0.305744</td>\n",
              "      <td>1.000000</td>\n",
              "    </tr>\n",
              "  </tbody>\n",
              "</table>\n",
              "</div>"
            ],
            "text/plain": [
              "                   Date  Location   MinTemp  ...   Temp3pm  RainToday  RainTomorrow\n",
              "Date           1.000000  0.019887  0.020929  ...  0.031318  -0.012801     -0.013013\n",
              "Location       0.019887  1.000000 -0.006766  ... -0.023260  -0.005484     -0.005498\n",
              "MinTemp        0.020929 -0.006766  1.000000  ...  0.699211   0.054559      0.082173\n",
              "MaxTemp        0.043892 -0.020784  0.733400  ...  0.968713  -0.225439     -0.156851\n",
              "Rainfall      -0.012112 -0.002732  0.102706  ... -0.077684   0.499899      0.233900\n",
              "WindGustDir   -0.019588 -0.003732 -0.136443  ... -0.223028   0.124675      0.048774\n",
              "WindGustSpeed -0.022976  0.068780  0.172553  ...  0.031884   0.145700      0.220442\n",
              "WindDir9am     0.002318 -0.002439 -0.031327  ... -0.220361   0.167718      0.035341\n",
              "WindDir3pm     0.002245  0.008769 -0.159783  ... -0.193989   0.121719      0.028890\n",
              "WindSpeed9am  -0.012682  0.076403  0.173404  ...  0.004476   0.098636      0.086661\n",
              "WindSpeed3pm  -0.022834  0.063569  0.173058  ...  0.027587   0.077076      0.084207\n",
              "Humidity9am    0.000045 -0.000038 -0.230970  ... -0.490709   0.347034      0.251470\n",
              "Humidity3pm   -0.010951  0.012786  0.005995  ... -0.555608   0.367937      0.433179\n",
              "Pressure9am    0.031792  0.036066 -0.423584  ... -0.265532  -0.177981     -0.230975\n",
              "Pressure3pm    0.025755  0.045937 -0.433147  ... -0.360707  -0.099509     -0.211977\n",
              "Temp9am        0.031165 -0.015990  0.897692  ...  0.846141  -0.095952     -0.025555\n",
              "Temp3pm        0.031318 -0.023260  0.699211  ...  1.000000  -0.229689     -0.187806\n",
              "RainToday     -0.012801 -0.005484  0.054559  ... -0.229689   1.000000      0.305744\n",
              "RainTomorrow  -0.013013 -0.005498  0.082173  ... -0.187806   0.305744      1.000000\n",
              "\n",
              "[19 rows x 19 columns]"
            ]
          },
          "metadata": {
            "tags": []
          },
          "execution_count": 24
        }
      ]
    },
    {
      "cell_type": "code",
      "metadata": {
        "colab": {
          "base_uri": "https://localhost:8080/",
          "height": 1000
        },
        "id": "xTuVNjzovTXz",
        "outputId": "33f28722-ac7f-4c59-a97a-05f6f5ac9a91"
      },
      "source": [
        "plt.figure(figsize=(20,20))\n",
        "sns.heatmap(df.corr(),annot=True)"
      ],
      "execution_count": 25,
      "outputs": [
        {
          "output_type": "execute_result",
          "data": {
            "text/plain": [
              "<matplotlib.axes._subplots.AxesSubplot at 0x7f97e334d2d0>"
            ]
          },
          "metadata": {
            "tags": []
          },
          "execution_count": 25
        },
        {
          "output_type": "display_data",
          "data": {
            "image/png": "[encoded data removed]",
            "text/plain": [
              "<Figure size 1440x1440 with 2 Axes>"
            ]
          },
          "metadata": {
            "tags": [],
            "needs_background": "light"
          }
        }
      ]
    },
    {
      "cell_type": "markdown",
      "metadata": {
        "id": "Wh6fJ2Z-v75y"
      },
      "source": [
        "Correlation matrix shows us the relation between any two features and how they strongly they can vary upon changing other variable.\n",
        "\n",
        "\n",
        "Here, we observe:\n",
        "\n",
        "*   RainTomorrow is highly correlated with Humidity3pm when compared to other features.\n",
        "*   RainTomorrow is weakly correlated with Date,Location,WindGustDir,WindDir3pm,WindDir9am so we can drop them.\n",
        "\n",
        "\n",
        "\n",
        "\n",
        "\n"
      ]
    },
    {
      "cell_type": "code",
      "metadata": {
        "colab": {
          "base_uri": "https://localhost:8080/",
          "height": 223
        },
        "id": "ojw81cENEIiT",
        "outputId": "154e610b-0ad5-4968-b823-9e0bdb1a782e"
      },
      "source": [
        "df.drop([\"Date\",\"Location\",\"WindGustDir\",\"WindDir3pm\",\"WindDir9am\"],inplace=True,axis=1)\n",
        "df.head()"
      ],
      "execution_count": 26,
      "outputs": [
        {
          "output_type": "execute_result",
          "data": {
            "text/html": [
              "<div>\n",
              "<style scoped>\n",
              "    .dataframe tbody tr th:only-of-type {\n",
              "        vertical-align: middle;\n",
              "    }\n",
              "\n",
              "    .dataframe tbody tr th {\n",
              "        vertical-align: top;\n",
              "    }\n",
              "\n",
              "    .dataframe thead th {\n",
              "        text-align: right;\n",
              "    }\n",
              "</style>\n",
              "<table border=\"1\" class=\"dataframe\">\n",
              "  <thead>\n",
              "    <tr style=\"text-align: right;\">\n",
              "      <th></th>\n",
              "      <th>MinTemp</th>\n",
              "      <th>MaxTemp</th>\n",
              "      <th>Rainfall</th>\n",
              "      <th>WindGustSpeed</th>\n",
              "      <th>WindSpeed9am</th>\n",
              "      <th>WindSpeed3pm</th>\n",
              "      <th>Humidity9am</th>\n",
              "      <th>Humidity3pm</th>\n",
              "      <th>Pressure9am</th>\n",
              "      <th>Pressure3pm</th>\n",
              "      <th>Temp9am</th>\n",
              "      <th>Temp3pm</th>\n",
              "      <th>RainToday</th>\n",
              "      <th>RainTomorrow</th>\n",
              "    </tr>\n",
              "  </thead>\n",
              "  <tbody>\n",
              "    <tr>\n",
              "      <th>0</th>\n",
              "      <td>13.4</td>\n",
              "      <td>22.9</td>\n",
              "      <td>0.6</td>\n",
              "      <td>44.0</td>\n",
              "      <td>20.0</td>\n",
              "      <td>24.0</td>\n",
              "      <td>71.0</td>\n",
              "      <td>22.0</td>\n",
              "      <td>1007.7</td>\n",
              "      <td>1007.1</td>\n",
              "      <td>16.9</td>\n",
              "      <td>21.8</td>\n",
              "      <td>0</td>\n",
              "      <td>0</td>\n",
              "    </tr>\n",
              "    <tr>\n",
              "      <th>1</th>\n",
              "      <td>7.4</td>\n",
              "      <td>25.1</td>\n",
              "      <td>0.0</td>\n",
              "      <td>44.0</td>\n",
              "      <td>4.0</td>\n",
              "      <td>22.0</td>\n",
              "      <td>44.0</td>\n",
              "      <td>25.0</td>\n",
              "      <td>1010.6</td>\n",
              "      <td>1007.8</td>\n",
              "      <td>17.2</td>\n",
              "      <td>24.3</td>\n",
              "      <td>0</td>\n",
              "      <td>0</td>\n",
              "    </tr>\n",
              "    <tr>\n",
              "      <th>2</th>\n",
              "      <td>12.9</td>\n",
              "      <td>25.7</td>\n",
              "      <td>0.0</td>\n",
              "      <td>46.0</td>\n",
              "      <td>19.0</td>\n",
              "      <td>26.0</td>\n",
              "      <td>38.0</td>\n",
              "      <td>30.0</td>\n",
              "      <td>1007.6</td>\n",
              "      <td>1008.7</td>\n",
              "      <td>21.0</td>\n",
              "      <td>23.2</td>\n",
              "      <td>0</td>\n",
              "      <td>0</td>\n",
              "    </tr>\n",
              "    <tr>\n",
              "      <th>3</th>\n",
              "      <td>9.2</td>\n",
              "      <td>28.0</td>\n",
              "      <td>0.0</td>\n",
              "      <td>24.0</td>\n",
              "      <td>11.0</td>\n",
              "      <td>9.0</td>\n",
              "      <td>45.0</td>\n",
              "      <td>16.0</td>\n",
              "      <td>1017.6</td>\n",
              "      <td>1012.8</td>\n",
              "      <td>18.1</td>\n",
              "      <td>26.5</td>\n",
              "      <td>0</td>\n",
              "      <td>0</td>\n",
              "    </tr>\n",
              "    <tr>\n",
              "      <th>4</th>\n",
              "      <td>17.5</td>\n",
              "      <td>32.3</td>\n",
              "      <td>1.0</td>\n",
              "      <td>41.0</td>\n",
              "      <td>7.0</td>\n",
              "      <td>20.0</td>\n",
              "      <td>82.0</td>\n",
              "      <td>33.0</td>\n",
              "      <td>1010.8</td>\n",
              "      <td>1006.0</td>\n",
              "      <td>17.8</td>\n",
              "      <td>29.7</td>\n",
              "      <td>0</td>\n",
              "      <td>0</td>\n",
              "    </tr>\n",
              "  </tbody>\n",
              "</table>\n",
              "</div>"
            ],
            "text/plain": [
              "   MinTemp  MaxTemp  Rainfall  ...  Temp3pm  RainToday  RainTomorrow\n",
              "0     13.4     22.9       0.6  ...     21.8          0             0\n",
              "1      7.4     25.1       0.0  ...     24.3          0             0\n",
              "2     12.9     25.7       0.0  ...     23.2          0             0\n",
              "3      9.2     28.0       0.0  ...     26.5          0             0\n",
              "4     17.5     32.3       1.0  ...     29.7          0             0\n",
              "\n",
              "[5 rows x 14 columns]"
            ]
          },
          "metadata": {
            "tags": []
          },
          "execution_count": 26
        }
      ]
    },
    {
      "cell_type": "code",
      "metadata": {
        "colab": {
          "base_uri": "https://localhost:8080/",
          "height": 842
        },
        "id": "_e1dylSj0Fm4",
        "outputId": "7518e518-6d11-42af-c4a1-a3cc0c194db2"
      },
      "source": [
        "plt.figure(figsize=(20,15))\n",
        "for i,col in enumerate(df.columns):\n",
        "  plt.subplot(3,5,i+1)\n",
        "  plt.hist(df[col],density=True)\n",
        "  plt.title(col)\n"
      ],
      "execution_count": 27,
      "outputs": [
        {
          "output_type": "display_data",
          "data": {
            "image/png": "[encoded data removed]",
            "text/plain": [
              "<Figure size 1440x1080 with 14 Axes>"
            ]
          },
          "metadata": {
            "tags": [],
            "needs_background": "light"
          }
        }
      ]
    },
    {
      "cell_type": "code",
      "metadata": {
        "id": "tK0GXlzr-fot",
        "colab": {
          "base_uri": "https://localhost:8080/",
          "height": 223
        },
        "outputId": "7da417d1-cd64-4cca-f159-b458e057f176"
      },
      "source": [
        "df.head()\n"
      ],
      "execution_count": 28,
      "outputs": [
        {
          "output_type": "execute_result",
          "data": {
            "text/html": [
              "<div>\n",
              "<style scoped>\n",
              "    .dataframe tbody tr th:only-of-type {\n",
              "        vertical-align: middle;\n",
              "    }\n",
              "\n",
              "    .dataframe tbody tr th {\n",
              "        vertical-align: top;\n",
              "    }\n",
              "\n",
              "    .dataframe thead th {\n",
              "        text-align: right;\n",
              "    }\n",
              "</style>\n",
              "<table border=\"1\" class=\"dataframe\">\n",
              "  <thead>\n",
              "    <tr style=\"text-align: right;\">\n",
              "      <th></th>\n",
              "      <th>MinTemp</th>\n",
              "      <th>MaxTemp</th>\n",
              "      <th>Rainfall</th>\n",
              "      <th>WindGustSpeed</th>\n",
              "      <th>WindSpeed9am</th>\n",
              "      <th>WindSpeed3pm</th>\n",
              "      <th>Humidity9am</th>\n",
              "      <th>Humidity3pm</th>\n",
              "      <th>Pressure9am</th>\n",
              "      <th>Pressure3pm</th>\n",
              "      <th>Temp9am</th>\n",
              "      <th>Temp3pm</th>\n",
              "      <th>RainToday</th>\n",
              "      <th>RainTomorrow</th>\n",
              "    </tr>\n",
              "  </thead>\n",
              "  <tbody>\n",
              "    <tr>\n",
              "      <th>0</th>\n",
              "      <td>13.4</td>\n",
              "      <td>22.9</td>\n",
              "      <td>0.6</td>\n",
              "      <td>44.0</td>\n",
              "      <td>20.0</td>\n",
              "      <td>24.0</td>\n",
              "      <td>71.0</td>\n",
              "      <td>22.0</td>\n",
              "      <td>1007.7</td>\n",
              "      <td>1007.1</td>\n",
              "      <td>16.9</td>\n",
              "      <td>21.8</td>\n",
              "      <td>0</td>\n",
              "      <td>0</td>\n",
              "    </tr>\n",
              "    <tr>\n",
              "      <th>1</th>\n",
              "      <td>7.4</td>\n",
              "      <td>25.1</td>\n",
              "      <td>0.0</td>\n",
              "      <td>44.0</td>\n",
              "      <td>4.0</td>\n",
              "      <td>22.0</td>\n",
              "      <td>44.0</td>\n",
              "      <td>25.0</td>\n",
              "      <td>1010.6</td>\n",
              "      <td>1007.8</td>\n",
              "      <td>17.2</td>\n",
              "      <td>24.3</td>\n",
              "      <td>0</td>\n",
              "      <td>0</td>\n",
              "    </tr>\n",
              "    <tr>\n",
              "      <th>2</th>\n",
              "      <td>12.9</td>\n",
              "      <td>25.7</td>\n",
              "      <td>0.0</td>\n",
              "      <td>46.0</td>\n",
              "      <td>19.0</td>\n",
              "      <td>26.0</td>\n",
              "      <td>38.0</td>\n",
              "      <td>30.0</td>\n",
              "      <td>1007.6</td>\n",
              "      <td>1008.7</td>\n",
              "      <td>21.0</td>\n",
              "      <td>23.2</td>\n",
              "      <td>0</td>\n",
              "      <td>0</td>\n",
              "    </tr>\n",
              "    <tr>\n",
              "      <th>3</th>\n",
              "      <td>9.2</td>\n",
              "      <td>28.0</td>\n",
              "      <td>0.0</td>\n",
              "      <td>24.0</td>\n",
              "      <td>11.0</td>\n",
              "      <td>9.0</td>\n",
              "      <td>45.0</td>\n",
              "      <td>16.0</td>\n",
              "      <td>1017.6</td>\n",
              "      <td>1012.8</td>\n",
              "      <td>18.1</td>\n",
              "      <td>26.5</td>\n",
              "      <td>0</td>\n",
              "      <td>0</td>\n",
              "    </tr>\n",
              "    <tr>\n",
              "      <th>4</th>\n",
              "      <td>17.5</td>\n",
              "      <td>32.3</td>\n",
              "      <td>1.0</td>\n",
              "      <td>41.0</td>\n",
              "      <td>7.0</td>\n",
              "      <td>20.0</td>\n",
              "      <td>82.0</td>\n",
              "      <td>33.0</td>\n",
              "      <td>1010.8</td>\n",
              "      <td>1006.0</td>\n",
              "      <td>17.8</td>\n",
              "      <td>29.7</td>\n",
              "      <td>0</td>\n",
              "      <td>0</td>\n",
              "    </tr>\n",
              "  </tbody>\n",
              "</table>\n",
              "</div>"
            ],
            "text/plain": [
              "   MinTemp  MaxTemp  Rainfall  ...  Temp3pm  RainToday  RainTomorrow\n",
              "0     13.4     22.9       0.6  ...     21.8          0             0\n",
              "1      7.4     25.1       0.0  ...     24.3          0             0\n",
              "2     12.9     25.7       0.0  ...     23.2          0             0\n",
              "3      9.2     28.0       0.0  ...     26.5          0             0\n",
              "4     17.5     32.3       1.0  ...     29.7          0             0\n",
              "\n",
              "[5 rows x 14 columns]"
            ]
          },
          "metadata": {
            "tags": []
          },
          "execution_count": 28
        }
      ]
    },
    {
      "cell_type": "markdown",
      "metadata": {
        "id": "vlLUwfimIl9H"
      },
      "source": [
        " \n",
        "*   Splitting Data into features and labels.\n",
        "\n",
        "\n",
        "\n",
        "\n"
      ]
    },
    {
      "cell_type": "code",
      "metadata": {
        "id": "9W5lLBX_ILEL"
      },
      "source": [
        "x=df.iloc[:,:-1].values\n",
        "y=df.iloc[:,-1].values\n"
      ],
      "execution_count": 29,
      "outputs": []
    },
    {
      "cell_type": "markdown",
      "metadata": {
        "id": "kc9xGm_BIsbV"
      },
      "source": [
        "*   Standardizing \n",
        "\n",
        "\n"
      ]
    },
    {
      "cell_type": "code",
      "metadata": {
        "colab": {
          "base_uri": "https://localhost:8080/"
        },
        "id": "AKFIwgnqFEqL",
        "outputId": "88944536-8718-432a-ba2d-7927b9fc4c46"
      },
      "source": [
        "from sklearn.preprocessing import StandardScaler\n",
        "sc=StandardScaler()\n",
        "x=sc.fit_transform(x)\n",
        "y.shape"
      ],
      "execution_count": 30,
      "outputs": [
        {
          "output_type": "execute_result",
          "data": {
            "text/plain": [
              "(145460,)"
            ]
          },
          "metadata": {
            "tags": []
          },
          "execution_count": 30
        }
      ]
    },
    {
      "cell_type": "markdown",
      "metadata": {
        "id": "f6IbBxNCJKzk"
      },
      "source": [
        "*   Splitting data into training and testing data\n",
        "\n",
        "\n"
      ]
    },
    {
      "cell_type": "code",
      "metadata": {
        "colab": {
          "base_uri": "https://localhost:8080/"
        },
        "id": "w-Yu-PfCFcLm",
        "outputId": "617f84c5-813a-4a1f-8a19-2f0436eaf4ad"
      },
      "source": [
        "from sklearn.model_selection import train_test_split\n",
        "X_train,X_test,y_train,y_test=train_test_split(x,y,test_size=0.2,random_state=0)\n",
        "print(\"X_train shape:\",X_train.shape)\n",
        "print(\"X_test shape:\",X_test.shape)\n",
        "print(\"y_train shape:\",y_train.shape)\n",
        "print(\"y_test shape:\",y_test.shape)"
      ],
      "execution_count": 31,
      "outputs": [
        {
          "output_type": "stream",
          "text": [
            "X_train shape: (116368, 13)\n",
            "X_test shape: (29092, 13)\n",
            "y_train shape: (116368,)\n",
            "y_test shape: (29092,)\n"
          ],
          "name": "stdout"
        }
      ]
    },
    {
      "cell_type": "markdown",
      "metadata": {
        "id": "MjktNO8SMy2X"
      },
      "source": [
        "\n",
        "\n",
        "*  Logistic Regression with Sklearn Library\n",
        "\n",
        "\n"
      ]
    },
    {
      "cell_type": "code",
      "metadata": {
        "colab": {
          "base_uri": "https://localhost:8080/"
        },
        "id": "k3N43E-gL8NL",
        "outputId": "0b86c78c-816b-4045-8fa1-7a0fface60ce"
      },
      "source": [
        "from sklearn.linear_model import LogisticRegression\n",
        "from sklearn.metrics import accuracy_score\n",
        "\n",
        "lr=LogisticRegression()\n",
        "\n",
        "lr.fit(X_train,y_train)\n",
        "\n",
        "print(\"Accuracy with Logistic regression model:\",lr.score(X_test,y_test))"
      ],
      "execution_count": 32,
      "outputs": [
        {
          "output_type": "stream",
          "text": [
            "Accuracy with Logistic regression model: 0.8411590815344424\n"
          ],
          "name": "stdout"
        }
      ]
    },
    {
      "cell_type": "markdown",
      "metadata": {
        "id": "3RknyiyRV3jA"
      },
      "source": [
        "\n",
        "\n",
        "*   Decision Tree Classifier with Sklearn Library\n",
        "\n"
      ]
    },
    {
      "cell_type": "code",
      "metadata": {
        "colab": {
          "base_uri": "https://localhost:8080/"
        },
        "id": "u9KBk-YWRoCn",
        "outputId": "1813259c-9992-4284-d1d5-670a807e855f"
      },
      "source": [
        "from sklearn.tree import DecisionTreeClassifier\n",
        "\n",
        "dtc=DecisionTreeClassifier()\n",
        "\n",
        "dtc.fit(X_train,y_train)\n",
        "\n",
        "print(\"Accuracy with Decision tree Classifier model:\",dtc.score(X_test,y_test))"
      ],
      "execution_count": 33,
      "outputs": [
        {
          "output_type": "stream",
          "text": [
            "Accuracy with Decision tree Classifier model: 0.7778427058985288\n"
          ],
          "name": "stdout"
        }
      ]
    },
    {
      "cell_type": "markdown",
      "metadata": {
        "id": "2q2kUTGaQ__C"
      },
      "source": [
        "\n",
        "\n",
        "*   Random Forest Classifier with sklearn library\n",
        "\n",
        "\n"
      ]
    },
    {
      "cell_type": "code",
      "metadata": {
        "colab": {
          "base_uri": "https://localhost:8080/"
        },
        "id": "_SMq6wH0Q35f",
        "outputId": "c7c70563-f9b7-42d3-a2aa-226a64ca2bb5"
      },
      "source": [
        "from sklearn.ensemble import RandomForestClassifier\n",
        "\n",
        "rfc=RandomForestClassifier()\n",
        "\n",
        "rfc.fit(X_train,y_train)\n",
        "\n",
        "print(\"Accuracy with Random Forest Classifier model:\",rfc.score(X_test,y_test))"
      ],
      "execution_count": 34,
      "outputs": [
        {
          "output_type": "stream",
          "text": [
            "Accuracy with Random Forest Classifier model: 0.8494775195930152\n"
          ],
          "name": "stdout"
        }
      ]
    },
    {
      "cell_type": "code",
      "metadata": {
        "id": "ZAHUF61DTQXL"
      },
      "source": [
        "#Therefore we find Random Forest Classifier gives best accuracy score when compared to others."
      ],
      "execution_count": 35,
      "outputs": []
    },
    {
      "cell_type": "code",
      "metadata": {
        "id": "3iorvwywvUNQ"
      },
      "source": [
        ""
      ],
      "execution_count": 35,
      "outputs": []
    }
  ]
}